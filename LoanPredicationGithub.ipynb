{
 "cells": [
  {
   "cell_type": "code",
   "execution_count": 15,
   "metadata": {},
   "outputs": [
    {
     "name": "stdout",
     "output_type": "stream",
     "text": [
      "Starting...\n",
      "Number of training examples 614 \n",
      "Y    422\n",
      "N    192\n",
      "Name: Loan_Status, dtype: int64\n",
      "Number of test examples 367 \n"
     ]
    }
   ],
   "source": [
    "import pandas as pd\n",
    "from sklearn.metrics import roc_auc_score\n",
    "from sklearn.ensemble import RandomForestClassifier\n",
    "from sklearn.svm import SVC\n",
    "from sklearn import preprocessing\n",
    "\n",
    "\n",
    "train = pd.read_csv('J:/SOFTWARES/loan/train.csv')\n",
    "test = pd.read_csv('J:/SOFTWARES/loan/test.csv')\n",
    "print (\"Starting...\")\n",
    "print(('Number of training examples {0} '.format(train.shape[0])))\n",
    "print((train.Loan_Status.value_counts()))\n",
    "print(('Number of test examples {0} '.format(test.shape[0])))\n"
   ]
  },
  {
   "cell_type": "code",
   "execution_count": 16,
   "metadata": {},
   "outputs": [],
   "source": [
    "cat_vbl = {'Gender','Married','Dependents','Self_Employed','Property_Area'}\n",
    "num_vbl = {'LoanAmount','Loan_Amount_Term','Credit_History'}\n",
    "#filling missing values\n",
    "for var in num_vbl:\n",
    "    train[var] = train[var].fillna(value = train[var].mean())\n",
    "    test[var] = test[var].fillna(value = test[var].mean())\n",
    "train['Credibility'] = train['ApplicantIncome'] / train['LoanAmount']\n",
    "test['Credibility'] = test['ApplicantIncome'] / test['LoanAmount']\n"
   ]
  },
  {
   "cell_type": "code",
   "execution_count": 17,
   "metadata": {},
   "outputs": [
    {
     "name": "stdout",
     "output_type": "stream",
     "text": [
      "Starting Label Encode\n",
      "Filled Missing Values\n",
      "('Training accuracy:', 0.8029315960912052)\n",
      "Starting to predict on the dataset\n",
      "Prediction Completed\n"
     ]
    }
   ],
   "source": [
    "print (\"Starting Label Encode\")\n",
    "for var in cat_vbl:\n",
    "    lb = preprocessing.LabelEncoder()\n",
    "    full_data = pd.concat((train[var],test[var]),axis=0).astype('str')\n",
    "    lb.fit( full_data )\n",
    "    train[var] = lb.transform(train[var].astype('str'))\n",
    "    test[var] = lb.transform(test[var].astype('str'))\n",
    "\n",
    "train = train.fillna(value = -999)\n",
    "test = test.fillna(value = -999)\n",
    "print (\"Filled Missing Values\")\n",
    "\n",
    "features = ['Credibility',\n",
    "            'Gender',\n",
    "            'Married',\n",
    "            'Dependents',\n",
    "            'Self_Employed',\n",
    "            'Property_Area',\n",
    "            'ApplicantIncome',\n",
    "            'CoapplicantIncome',\n",
    "            'LoanAmount',\n",
    "            'Loan_Amount_Term',\n",
    "            'Credit_History'\n",
    "]\n",
    "\n",
    "x_train = train[features].values\n",
    "y_train = train['Loan_Status'].values\n",
    "x_test = test[features].values\n",
    "\n",
    "# Random Forest\n",
    "rf = RandomForestClassifier(n_estimators=1000, n_jobs=-1, oob_score = True, max_features = \"auto\",random_state=10, min_samples_split=2, min_samples_leaf=2)\n",
    "rf.fit(x_train, y_train)\n",
    "print(('Training accuracy:', rf.oob_score_))\n",
    "\n",
    "\n",
    "print (\"Starting to predict on the dataset\")\n",
    "rec= rf.predict(x_test)\n",
    "\n",
    "print (\"Prediction Completed\")\n",
    "test['Loan_Status'] = rec\n",
    "test.to_csv('result_sklearn_rf.csv',columns=['Loan_ID','Loan_Status'],index=False)"
   ]
  },
  {
   "cell_type": "code",
   "execution_count": null,
   "metadata": {},
   "outputs": [],
   "source": []
  }
 ],
 "metadata": {
  "kernelspec": {
   "display_name": "Python 3",
   "language": "python",
   "name": "python3"
  },
  "language_info": {
   "codemirror_mode": {
    "name": "ipython",
    "version": 3
   },
   "file_extension": ".py",
   "mimetype": "text/x-python",
   "name": "python",
   "nbconvert_exporter": "python",
   "pygments_lexer": "ipython3",
   "version": "3.6.4"
  }
 },
 "nbformat": 4,
 "nbformat_minor": 2
}
